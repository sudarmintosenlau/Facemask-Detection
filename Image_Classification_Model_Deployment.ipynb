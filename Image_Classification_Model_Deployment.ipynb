{
  "nbformat": 4,
  "nbformat_minor": 0,
  "metadata": {
    "colab": {
      "name": "Image_Classification_Model_Deployment.ipynb",
      "provenance": [],
      "collapsed_sections": [],
      "include_colab_link": true
    },
    "kernelspec": {
      "name": "python3",
      "display_name": "Python 3"
    },
    "language_info": {
      "name": "python"
    }
  },
  "cells": [
    {
      "cell_type": "markdown",
      "metadata": {
        "id": "view-in-github",
        "colab_type": "text"
      },
      "source": [
        "<a href=\"https://colab.research.google.com/github/sudarmintosenlau/Facemask-Detection/blob/main/Image_Classification_Model_Deployment.ipynb\" target=\"_parent\"><img src=\"https://colab.research.google.com/assets/colab-badge.svg\" alt=\"Open In Colab\"/></a>"
      ]
    },
    {
      "cell_type": "markdown",
      "metadata": {
        "id": "zFIqn-8OZz2c"
      },
      "source": [
        "**INFORMASI DIRI**\n",
        "\n",
        "**Sudarminto Senlau**\n",
        "\n",
        "![an image](https://img.icons8.com/material-two-tone/2x/incoming-call.png)\n",
        "**085739022843**\n",
        "\n",
        "![an image](https://img.icons8.com/fluent-systems-regular/2x/gmail.png)\n",
        "**sudarmintosenlau37@gmail.com**\n",
        "\n",
        "![an image](https://img.icons8.com/material-rounded/2x/address.png)\n",
        "**Kupang, Nusa Tenggara Timur**\n",
        "\n",
        "![an image](https://img.icons8.com/fluent-systems-filled/2x/linkedin.png)\n",
        "[Linkedin](https://www.linkedin.com/in/sudarminto-senlau/)"
      ]
    },
    {
      "cell_type": "markdown",
      "metadata": {
        "id": "sRZIWuZYGrOa"
      },
      "source": [
        "### Submission at Dicoding\n",
        "#### Klasifikasi Gambar\n",
        "\n",
        "Membuat program Mendeteksi Seseorang menggunakan masker dan tidak menggunakan masker"
      ]
    },
    {
      "cell_type": "markdown",
      "metadata": {
        "id": "a7iU37eDZ1vK"
      },
      "source": [
        "Import Dataset from Kaggle API"
      ]
    },
    {
      "cell_type": "code",
      "metadata": {
        "id": "SrzO14seP5jo"
      },
      "source": [
        "import os\n",
        "os.environ['KAGGLE_USERNAME'] = \"sudarmintosenlau\"\n",
        "os.environ['KAGGLE_KEY'] = \"d877e312b36de616fddd0ac7c3aa5e03\""
      ],
      "execution_count": null,
      "outputs": []
    },
    {
      "cell_type": "code",
      "metadata": {
        "colab": {
          "base_uri": "https://localhost:8080/"
        },
        "id": "9ykhLj8UkQtW",
        "outputId": "6005f5b5-410c-4159-f2b1-a70924a5d336"
      },
      "source": [
        "#API dataset from kaggle\n",
        "!kaggle datasets download -d ashishjangra27/face-mask-12k-images-dataset"
      ],
      "execution_count": null,
      "outputs": [
        {
          "output_type": "stream",
          "text": [
            "Downloading face-mask-12k-images-dataset.zip to /content\n",
            " 97% 320M/330M [00:02<00:00, 155MB/s]\n",
            "100% 330M/330M [00:02<00:00, 158MB/s]\n"
          ],
          "name": "stdout"
        }
      ]
    },
    {
      "cell_type": "code",
      "metadata": {
        "id": "0xXfsHHynbeo"
      },
      "source": [
        "!unzip -q face-mask-12k-images-dataset.zip -d ."
      ],
      "execution_count": null,
      "outputs": []
    },
    {
      "cell_type": "code",
      "metadata": {
        "id": "8DJG4pqCuKn3"
      },
      "source": [
        "import zipfile                                                # Mengimpor modul 'zipfile' dan 'os' untuk membaca file zip dan mengakses folder data\n",
        "\n",
        "local_zip = 'face-mask-12k-images-dataset.zip'                # mendefinikan variabel yang akan diekstrack\n",
        "zip_ref = zipfile.ZipFile(local_zip, 'r')"
      ],
      "execution_count": null,
      "outputs": []
    },
    {
      "cell_type": "code",
      "metadata": {
        "colab": {
          "base_uri": "https://localhost:8080/"
        },
        "id": "GzWUFnohuURe",
        "outputId": "60b8e7ef-3248-4e2d-a221-f180434735a3"
      },
      "source": [
        "base_dir = 'Face Mask Dataset/Train'                          # Menyiapkan Direktori \n",
        "os.listdir(base_dir)"
      ],
      "execution_count": null,
      "outputs": [
        {
          "output_type": "execute_result",
          "data": {
            "text/plain": [
              "['WithoutMask', 'WithMask']"
            ]
          },
          "metadata": {
            "tags": []
          },
          "execution_count": 5
        }
      ]
    },
    {
      "cell_type": "code",
      "metadata": {
        "id": "h1rFiTJSj9dL"
      },
      "source": [
        "import tensorflow as tf\n",
        "from tensorflow.keras.optimizers import RMSprop\n",
        "from tensorflow.keras.preprocessing.image import ImageDataGenerator"
      ],
      "execution_count": null,
      "outputs": []
    },
    {
      "cell_type": "code",
      "metadata": {
        "id": "hGWoX89bkZDc"
      },
      "source": [
        "train_datagen = ImageDataGenerator(rescale = 1./255,                # Menormalisasi Data\n",
        "                                  rotation_range = 20,              # memprediksi rotasi gambar hingga 20 derajat\n",
        "                                  horizontal_flip = True,           # memprediksi gambar diputar balik secara horizontal\n",
        "                                  shear_range = 0.2,                # memprediksi pemangkasan gambar hingga 0.2 dari ukuran awal\n",
        "                                  fill_mode = 'wrap',               # memprediksi lalu mengisi pixel yang tidak ada dari data pixel yang ada\n",
        "                                  validation_split = 0.4)           # Membagi data training menjadi 60% dan data validasi 40%\n",
        "test_datagen = ImageDataGenerator(rescale=1./255,\n",
        "                                  zoom_range = 0.2,\n",
        "                                  shear_range = 0.2,\n",
        "                                  horizontal_flip = True,\n",
        "                                  validation_split = 0.4)"
      ],
      "execution_count": null,
      "outputs": []
    },
    {
      "cell_type": "code",
      "metadata": {
        "colab": {
          "base_uri": "https://localhost:8080/"
        },
        "id": "ZVSP3HnRk1K0",
        "outputId": "0dbf8561-5d3a-480f-d65f-236d025e29d0"
      },
      "source": [
        "train_generator = train_datagen.flow_from_directory(base_dir,\n",
        "                                                    target_size = (150, 100),\n",
        "                                                    shuffle = True,\n",
        "                                                    subset = 'training',\n",
        "                                                    class_mode = 'categorical')\n",
        "\n",
        "validation_generator = train_datagen.flow_from_directory(base_dir,\n",
        "                                                        target_size = (150, 100),\n",
        "                                                        subset = 'validation',\n",
        "                                                        class_mode = 'categorical')"
      ],
      "execution_count": null,
      "outputs": [
        {
          "output_type": "stream",
          "text": [
            "Found 6000 images belonging to 2 classes.\n",
            "Found 4000 images belonging to 2 classes.\n"
          ],
          "name": "stdout"
        }
      ]
    },
    {
      "cell_type": "markdown",
      "metadata": {
        "id": "h_vtAST5dvcy"
      },
      "source": [
        "Dari ukuran pembagian data validasi 40% dari total dataset, ditemukan: Data training memiliki 6000 sampel gambar dengan 2 class, dan Data validasi memiliki 4000 sampel gambar dengan 2 class.\n",
        "\n",
        "Setelah data kita telah siap, kita bisa membangun arsitektur sebuah CNN."
      ]
    },
    {
      "cell_type": "code",
      "metadata": {
        "id": "BI3OXHDulPLA"
      },
      "source": [
        "from tensorflow.keras.models import Sequential\n",
        "from tensorflow.keras.layers import Dropout,Activation, Conv2D,MaxPooling2D, Flatten, MaxPool2D, Dense, BatchNormalization"
      ],
      "execution_count": null,
      "outputs": []
    },
    {
      "cell_type": "code",
      "metadata": {
        "id": "HRNlXf4YpG2y"
      },
      "source": [
        "model = tf.keras.models.Sequential([tf.keras.layers.Conv2D(32, (3, 3), activation = 'relu', input_shape = (150, 100, 3)),\n",
        "                                    tf.keras.layers.MaxPooling2D(2, 2),\n",
        "                                    tf.keras.layers.Conv2D(64, (3, 3), activation= 'relu'),\n",
        "                                    tf.keras.layers.MaxPooling2D(2, 2),\n",
        "                                    tf.keras.layers.Conv2D(128, (3, 3), activation= 'relu'),\n",
        "                                    tf.keras.layers.MaxPooling2D(2, 2),\n",
        "                                    tf.keras.layers.Conv2D(512, (3, 3), activation= 'relu'),\n",
        "                                    tf.keras.layers.MaxPooling2D(2, 2),\n",
        "                                    tf.keras.layers.Flatten(),\n",
        "                                    tf.keras.layers.Dense(128, activation= 'relu'),\n",
        "                                    tf.keras.layers.Dense(2, activation= 'softmax')\n",
        "])"
      ],
      "execution_count": null,
      "outputs": []
    },
    {
      "cell_type": "code",
      "metadata": {
        "colab": {
          "base_uri": "https://localhost:8080/"
        },
        "id": "EndzkO72pLZ3",
        "outputId": "8b1dd9c9-fa9a-40a0-b838-032eda1740d0"
      },
      "source": [
        "model.compile(loss='binary_crossentropy', \n",
        "              optimizer=tf.keras.optimizers.Adam(), \n",
        "              metrics=['accuracy'])\n",
        "model.summary()"
      ],
      "execution_count": null,
      "outputs": [
        {
          "output_type": "stream",
          "text": [
            "Model: \"sequential\"\n",
            "_________________________________________________________________\n",
            "Layer (type)                 Output Shape              Param #   \n",
            "=================================================================\n",
            "conv2d (Conv2D)              (None, 148, 98, 32)       896       \n",
            "_________________________________________________________________\n",
            "max_pooling2d (MaxPooling2D) (None, 74, 49, 32)        0         \n",
            "_________________________________________________________________\n",
            "conv2d_1 (Conv2D)            (None, 72, 47, 64)        18496     \n",
            "_________________________________________________________________\n",
            "max_pooling2d_1 (MaxPooling2 (None, 36, 23, 64)        0         \n",
            "_________________________________________________________________\n",
            "conv2d_2 (Conv2D)            (None, 34, 21, 128)       73856     \n",
            "_________________________________________________________________\n",
            "max_pooling2d_2 (MaxPooling2 (None, 17, 10, 128)       0         \n",
            "_________________________________________________________________\n",
            "conv2d_3 (Conv2D)            (None, 15, 8, 512)        590336    \n",
            "_________________________________________________________________\n",
            "max_pooling2d_3 (MaxPooling2 (None, 7, 4, 512)         0         \n",
            "_________________________________________________________________\n",
            "flatten (Flatten)            (None, 14336)             0         \n",
            "_________________________________________________________________\n",
            "dense (Dense)                (None, 128)               1835136   \n",
            "_________________________________________________________________\n",
            "dense_1 (Dense)              (None, 2)                 258       \n",
            "=================================================================\n",
            "Total params: 2,518,978\n",
            "Trainable params: 2,518,978\n",
            "Non-trainable params: 0\n",
            "_________________________________________________________________\n"
          ],
          "name": "stdout"
        }
      ]
    },
    {
      "cell_type": "code",
      "metadata": {
        "id": "R7rPQBWVra1r"
      },
      "source": [
        "from tensorflow.keras.callbacks import TensorBoard, ModelCheckpoint\n",
        "checkpoint = ModelCheckpoint('model.{epoch:02d}-{val_loss:.2f}.h5',\n",
        "                             monitor='val_loss',\n",
        "                             verbose=0,\n",
        "                             save_best_only=True,\n",
        "                             mode='auto')"
      ],
      "execution_count": null,
      "outputs": []
    },
    {
      "cell_type": "code",
      "metadata": {
        "colab": {
          "base_uri": "https://localhost:8080/"
        },
        "id": "rZ9ETX0IpPoh",
        "outputId": "8aad54a3-5837-4ade-cde4-e398da7a8d35"
      },
      "source": [
        "history = model.fit(train_generator,\n",
        "                    steps_per_epoch = 10,\n",
        "                    epochs = 10,\n",
        "                    validation_data = validation_generator,\n",
        "                    validation_steps = 5,\n",
        "                    callbacks=[checkpoint],\n",
        "                    verbose = 2\n",
        ")"
      ],
      "execution_count": null,
      "outputs": [
        {
          "output_type": "stream",
          "text": [
            "Epoch 1/10\n",
            "10/10 - 17s - loss: 0.6053 - accuracy: 0.6875 - val_loss: 0.3553 - val_accuracy: 0.8813\n",
            "Epoch 2/10\n",
            "10/10 - 15s - loss: 0.3923 - accuracy: 0.8719 - val_loss: 0.4233 - val_accuracy: 0.8188\n",
            "Epoch 3/10\n",
            "10/10 - 15s - loss: 0.3041 - accuracy: 0.8875 - val_loss: 0.6512 - val_accuracy: 0.6938\n",
            "Epoch 4/10\n",
            "10/10 - 15s - loss: 0.2948 - accuracy: 0.8938 - val_loss: 0.2511 - val_accuracy: 0.9187\n",
            "Epoch 5/10\n",
            "10/10 - 15s - loss: 0.2232 - accuracy: 0.9219 - val_loss: 0.2269 - val_accuracy: 0.9062\n",
            "Epoch 6/10\n",
            "10/10 - 15s - loss: 0.2517 - accuracy: 0.9219 - val_loss: 0.2277 - val_accuracy: 0.9312\n",
            "Epoch 7/10\n",
            "10/10 - 15s - loss: 0.2414 - accuracy: 0.9250 - val_loss: 0.2227 - val_accuracy: 0.9000\n",
            "Epoch 8/10\n",
            "10/10 - 15s - loss: 0.1768 - accuracy: 0.9469 - val_loss: 0.1273 - val_accuracy: 0.9625\n",
            "Epoch 9/10\n",
            "10/10 - 15s - loss: 0.1209 - accuracy: 0.9563 - val_loss: 0.1469 - val_accuracy: 0.9563\n",
            "Epoch 10/10\n",
            "10/10 - 15s - loss: 0.1910 - accuracy: 0.9281 - val_loss: 0.2129 - val_accuracy: 0.9250\n"
          ],
          "name": "stdout"
        }
      ]
    },
    {
      "cell_type": "code",
      "metadata": {
        "colab": {
          "base_uri": "https://localhost:8080/",
          "height": 295
        },
        "id": "47ALrCul0kag",
        "outputId": "ec8736c1-f883-4f53-9dca-fb74fee5ebae"
      },
      "source": [
        "import matplotlib.pyplot as plt\n",
        "\n",
        "\n",
        "plt.plot(history.history['accuracy'])\n",
        "plt.plot(history.history['loss'])\n",
        "plt.title('Model Accuracy')\n",
        "plt.ylabel('Accuracy')\n",
        "plt.xlabel('Epochs')\n",
        "plt.legend(['accuracy', 'loss'])\n",
        "plt.show()"
      ],
      "execution_count": null,
      "outputs": [
        {
          "output_type": "display_data",
          "data": {
            "image/png": "[encoded data removed]",
            "text/plain": [
              "<Figure size 432x288 with 1 Axes>"
            ]
          },
          "metadata": {
            "tags": [],
            "needs_background": "light"
          }
        }
      ]
    },
    {
      "cell_type": "markdown",
      "metadata": {
        "id": "JBlnkyNzHiOO"
      },
      "source": [
        "Menyimpan model kedalam format TF-Lite"
      ]
    },
    {
      "cell_type": "code",
      "metadata": {
        "colab": {
          "base_uri": "https://localhost:8080/"
        },
        "id": "nHIcbUG_Hemg",
        "outputId": "6429d049-0336-44e5-d946-1fa8f489c779"
      },
      "source": [
        "# Convert the model.\n",
        "converter = tf.lite.TFLiteConverter.from_keras_model(model)\n",
        "tflite_model = converter.convert()\n",
        "# Save the model.\n",
        "with open('model.tflite', 'wb') as f:\n",
        "  f.write(tflite_model)"
      ],
      "execution_count": null,
      "outputs": [
        {
          "output_type": "stream",
          "text": [
            "INFO:tensorflow:Assets written to: /tmp/tmpitrl2j_y/assets\n"
          ],
          "name": "stdout"
        }
      ]
    }
  ]
}